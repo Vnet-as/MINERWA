{
 "cells": [
  {
   "cell_type": "code",
   "execution_count": 1,
   "metadata": {},
   "outputs": [],
   "source": [
    "import pandas as pd"
   ]
  },
  {
   "cell_type": "code",
   "execution_count": 2,
   "metadata": {},
   "outputs": [
    {
     "name": "stdout",
     "output_type": "stream",
     "text": [
      "c:\\Users\\Goldy\\Desktop\\PRO projekty\\workstuff\\goldschmidt-playground\\vnetwindow\n"
     ]
    }
   ],
   "source": [
    "%cd .."
   ]
  },
  {
   "cell_type": "code",
   "execution_count": 3,
   "metadata": {},
   "outputs": [],
   "source": [
    "from vnet_feature_extraction import vnet_features_extract\n",
    "from windowing.flow_processor import process_flows\n",
    "from windowing.windower import Windower"
   ]
  },
  {
   "cell_type": "code",
   "execution_count": 22,
   "metadata": {},
   "outputs": [],
   "source": [
    "# Data sources\n",
    "FLOWS48_FILEPATH   = 'data/48.flows'"
   ]
  },
  {
   "cell_type": "code",
   "execution_count": 6,
   "metadata": {},
   "outputs": [],
   "source": [
    "# Windower settings\n",
    "WINDOW_SIZE_S = 1\n",
    "SETTINGS_WINDOWER = {\n",
    "    'win_min_entries'      : 2,\n",
    "    'win_min_cnt'          : 2,\n",
    "    'win_timeout'          : 500,\n",
    "    'flow_winspan_max_len' : WINDOW_SIZE_S * 1000,      # Sec to msec\n",
    "    'samples_cnt'          : 20,\n",
    "    'win_max_cnt'          : 50\n",
    "}"
   ]
  },
  {
   "cell_type": "code",
   "execution_count": 7,
   "metadata": {},
   "outputs": [],
   "source": [
    "windower = Windower(**SETTINGS_WINDOWER)"
   ]
  },
  {
   "cell_type": "code",
   "execution_count": 11,
   "metadata": {},
   "outputs": [],
   "source": [
    "# Load the dataset\n",
    "data = pd.read_csv(FLOWS48_FILEPATH, delimiter='|', header='infer')"
   ]
  },
  {
   "cell_type": "code",
   "execution_count": 12,
   "metadata": {},
   "outputs": [
    {
     "data": {
      "text/plain": [
       "186415"
      ]
     },
     "execution_count": 12,
     "metadata": {},
     "output_type": "execute_result"
    }
   ],
   "source": [
    "# Obtain length of the datase\n",
    "len(data)"
   ]
  },
  {
   "cell_type": "code",
   "execution_count": 15,
   "metadata": {},
   "outputs": [
    {
     "data": {
      "text/plain": [
       "6.713"
      ]
     },
     "execution_count": 15,
     "metadata": {},
     "output_type": "execute_result"
    }
   ],
   "source": [
    "# Obtain the length of the capture\n",
    "(data.iloc[len(data) -1]['FLOW_END_MILLISECONDS'] - data.iloc[0]['FLOW_START_MILLISECONDS']) / 1000"
   ]
  },
  {
   "cell_type": "code",
   "execution_count": 19,
   "metadata": {},
   "outputs": [
    {
     "name": "stdout",
     "output_type": "stream",
     "text": [
      "4min 9s ± 51.5 s per loop (mean ± std. dev. of 3 runs, 10 loops each)\n"
     ]
    }
   ],
   "source": [
    "%%timeit -n 10 -r 3\n",
    "# Time windowing upon this 6.7s capture\n",
    "process_flows(data, vnet_features_extract, windower, window_size=WINDOW_SIZE_S)"
   ]
  }
 ],
 "metadata": {
  "kernelspec": {
   "display_name": "Python 3.9.7 ('.jupyenv')",
   "language": "python",
   "name": "python3"
  },
  "language_info": {
   "codemirror_mode": {
    "name": "ipython",
    "version": 3
   },
   "file_extension": ".py",
   "mimetype": "text/x-python",
   "name": "python",
   "nbconvert_exporter": "python",
   "pygments_lexer": "ipython3",
   "version": "3.9.7"
  },
  "orig_nbformat": 4,
  "vscode": {
   "interpreter": {
    "hash": "94b7f9dc951d1761664fb1dfed7f6f65ce3eef506d9917c2160619bddc379615"
   }
  }
 },
 "nbformat": 4,
 "nbformat_minor": 2
}
