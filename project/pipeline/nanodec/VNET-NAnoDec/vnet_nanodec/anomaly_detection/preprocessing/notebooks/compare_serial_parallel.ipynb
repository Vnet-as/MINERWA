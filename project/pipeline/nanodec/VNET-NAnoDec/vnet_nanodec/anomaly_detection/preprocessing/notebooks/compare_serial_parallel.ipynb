{
 "cells": [
  {
   "attachments": {},
   "cell_type": "markdown",
   "metadata": {},
   "source": [
    "# Check Processed Files in Different Modes\n",
    "In order to run this notebook on newly-created data again, `vnet_preprocessing.py` file needs to be modified as:\n",
    "- Do not drop `FLOW_END_MILLISECONDS`, `FLOW_START_MILLISECONDS`, `IPV4_SRC_ADDR`, `IPV6_SRC_ADDR`, `IPV4_DST_ADDR`,\n",
    "    `IPV6_DST_ADDR` columns\n",
    "- Create columns `PRETOCEL`, `L4_SRC_PORTE`, and `L4_DST_PORTE` before applying its mapping function as:\n",
    "```\n",
    "data['PRETOCEL'] = data['PROTOCOL']\n",
    "data['L4_SRC_PORTE'] = data['L4_SRC_PORT']\n",
    "data['L4_DST_PORTE'] = data['L4_DST_PORT']\n",
    "```\n",
    "\n",
    "The above changes allows the produced data to be sortable, and thus comparable in order to determine if the produced results are equal or not."
   ]
  },
  {
   "cell_type": "code",
   "execution_count": 1,
   "metadata": {},
   "outputs": [],
   "source": [
    "import pandas as pd\n",
    "import numpy as np"
   ]
  },
  {
   "cell_type": "code",
   "execution_count": 2,
   "metadata": {},
   "outputs": [],
   "source": [
    "WINDOW_FEATURES = ['flows_total', 'flows_concurrent_max', 'flows_itimes_avg', 'flows_itimes_std', 'flows_itimes_min',\n",
    "    'flows_itimes_max', 'dur_total', 'dur_avg', 'dur_std', 'pkt_total', 'ppf_avg', 'ppf_std', 'bytes_total', 'bpf_avg',\n",
    "    'bpf_std', 'bpp_avg', 'bpp_std', 'bps_avg', 'bps_std', 'pps_avg', 'pps_std', 'port_src_uniq_cnt',\n",
    "    'port_src_entropy', 'proto_all_or', 'flag_syn_ratio', 'flag_ack_ratio', 'flag_fin_ratio', 'ip_dst_uniq',\n",
    "    'hdr_payload_ratio_avg', 'ttl_std', 'window_active_ratio', 'flows_total_std', \n",
    "    'flows_concurrent_max_std', 'flows_itimes_avg_std', 'flows_itimes_std_std', 'flows_itimes_min_std',\n",
    "    'flows_itimes_max_std', 'dur_total_std', 'dur_avg_std', 'dur_std_std', 'pkt_total_std', 'ppf_avg_std',\n",
    "    'ppf_std_std', 'bytes_total_std', 'bpf_avg_std', 'bpf_std_std', 'bps_avg_std', 'bps_std_std', 'bpp_avg_std',\n",
    "    'bpp_std_std', 'port_src_uniq_cnt_std',\t'port_src_entropy_std', 'flag_syn_ratio_std', 'flag_ack_ratio_std',\n",
    "    'flag_fin_ratio_std', 'ip_dst_uniq_std', 'hdr_payload_ratio_avg_std', 'ttl_std_std']\n",
    "\n",
    "WINDOW_NORAND = ['flows_total', 'flows_concurrent_max', 'flows_itimes_avg', 'flows_itimes_std', 'flows_itimes_min',\n",
    "    'flows_itimes_max', 'dur_total', 'dur_avg', 'dur_std', 'pkt_total', 'ppf_avg', 'ppf_std', 'bytes_total', 'bpf_avg',\n",
    "    'bpf_std', 'bpp_avg', 'bpp_std', 'bps_avg', 'bps_std', 'pps_avg', 'pps_std', 'port_src_uniq_cnt', 'proto_all_or',\n",
    "    'flag_syn_ratio', 'flag_ack_ratio', 'flag_fin_ratio', 'ip_dst_uniq', 'hdr_payload_ratio_avg', 'ttl_std',\n",
    "    'window_active_ratio', 'flows_total_std', 'flows_concurrent_max_std',\n",
    "    'flows_itimes_avg_std', 'flows_itimes_std_std', 'flows_itimes_min_std', 'flows_itimes_max_std', 'dur_total_std',\n",
    "    'dur_avg_std', 'dur_std_std', 'pkt_total_std', 'ppf_avg_std', 'ppf_std_std', 'bytes_total_std', 'bpf_avg_std',\n",
    "    'bpf_std_std', 'bps_avg_std', 'bps_std_std', 'bpp_avg_std', 'bpp_std_std', 'port_src_uniq_cnt_std',\n",
    "    'flag_syn_ratio_std', 'flag_ack_ratio_std', 'flag_fin_ratio_std', 'ip_dst_uniq_std', 'hdr_payload_ratio_avg_std',\n",
    "    'ttl_std_std']\n",
    "\n",
    "FLOAT_ORIG_COLS = ['IN_BPS', 'IN_BPP', 'IN_PPS', 'OUT_BPS', 'OUT_BPP', 'OUT_PPS']"
   ]
  },
  {
   "cell_type": "code",
   "execution_count": 3,
   "metadata": {},
   "outputs": [],
   "source": [
    "orig_serial   = pd.read_csv('../09_sub_serial.csv')\n",
    "orig_parallel = pd.read_csv('../09_sub_par1.csv')"
   ]
  },
  {
   "cell_type": "code",
   "execution_count": 4,
   "metadata": {},
   "outputs": [
    {
     "data": {
      "text/plain": [
       "['IN_BYTES',\n",
       " 'IN_PKTS',\n",
       " 'TCP_FLAGS',\n",
       " 'IPV4_SRC_ADDR',\n",
       " 'IPV6_SRC_ADDR',\n",
       " 'IPV4_DST_ADDR',\n",
       " 'IPV6_DST_ADDR',\n",
       " 'OUT_BYTES',\n",
       " 'OUT_PKTS',\n",
       " 'MIN_IP_PKT_LEN',\n",
       " 'MAX_IP_PKT_LEN',\n",
       " 'MIN_TTL',\n",
       " 'MAX_TTL',\n",
       " 'FLOW_START_MILLISECONDS',\n",
       " 'FLOW_END_MILLISECONDS',\n",
       " 'SRC_FRAGMENTS',\n",
       " 'DST_FRAGMENTS',\n",
       " 'CLIENT_TCP_FLAGS',\n",
       " 'SERVER_TCP_FLAGS',\n",
       " 'SRC_TO_DST_AVG_THROUGHPUT',\n",
       " 'DST_TO_SRC_AVG_THROUGHPUT',\n",
       " 'NUM_PKTS_UP_TO_128_BYTES',\n",
       " 'NUM_PKTS_128_TO_256_BYTES',\n",
       " 'NUM_PKTS_256_TO_512_BYTES',\n",
       " 'NUM_PKTS_512_TO_1024_BYTES',\n",
       " 'NUM_PKTS_1024_TO_1514_BYTES',\n",
       " 'NUM_PKTS_OVER_1514_BYTES',\n",
       " 'LONGEST_FLOW_PKT',\n",
       " 'SHORTEST_FLOW_PKT',\n",
       " 'RETRANSMITTED_IN_PKTS',\n",
       " 'RETRANSMITTED_OUT_PKTS',\n",
       " 'OOORDER_IN_PKTS',\n",
       " 'OOORDER_OUT_PKTS',\n",
       " 'DURATION_IN',\n",
       " 'DURATION_OUT',\n",
       " 'TCP_WIN_MIN_IN',\n",
       " 'TCP_WIN_MAX_IN',\n",
       " 'TCP_WIN_MSS_IN',\n",
       " 'TCP_WIN_SCALE_IN',\n",
       " 'TCP_WIN_MIN_OUT',\n",
       " 'TCP_WIN_MAX_OUT',\n",
       " 'TCP_WIN_MSS_OUT',\n",
       " 'TCP_WIN_SCALE_OUT',\n",
       " 'SRC_TO_DST_IAT_MIN',\n",
       " 'SRC_TO_DST_IAT_MAX',\n",
       " 'SRC_TO_DST_IAT_AVG',\n",
       " 'SRC_TO_DST_IAT_STDDEV',\n",
       " 'DST_TO_SRC_IAT_MIN',\n",
       " 'DST_TO_SRC_IAT_MAX',\n",
       " 'DST_TO_SRC_IAT_AVG',\n",
       " 'DST_TO_SRC_IAT_STDDEV',\n",
       " 'Label',\n",
       " 'SRC_DENY',\n",
       " 'DST_DENY',\n",
       " 'flows_total',\n",
       " 'flows_concurrent_max',\n",
       " 'flows_itimes_avg',\n",
       " 'flows_itimes_std',\n",
       " 'flows_itimes_min',\n",
       " 'flows_itimes_max',\n",
       " 'dur_total',\n",
       " 'dur_avg',\n",
       " 'dur_std',\n",
       " 'pkt_total',\n",
       " 'ppf_avg',\n",
       " 'ppf_std',\n",
       " 'bytes_total',\n",
       " 'bpf_avg',\n",
       " 'bpf_std',\n",
       " 'bpp_avg',\n",
       " 'bpp_std',\n",
       " 'bps_avg',\n",
       " 'bps_std',\n",
       " 'pps_avg',\n",
       " 'pps_std',\n",
       " 'port_src_uniq_cnt',\n",
       " 'port_src_entropy',\n",
       " 'proto_all_or',\n",
       " 'flag_syn_ratio',\n",
       " 'flag_ack_ratio',\n",
       " 'flag_fin_ratio',\n",
       " 'ip_dst_uniq',\n",
       " 'hdr_payload_ratio_avg',\n",
       " 'ttl_std',\n",
       " 'window_active_ratio',\n",
       " 'flows_total_std',\n",
       " 'flows_concurrent_max_std',\n",
       " 'flows_itimes_avg_std',\n",
       " 'flows_itimes_std_std',\n",
       " 'flows_itimes_min_std',\n",
       " 'flows_itimes_max_std',\n",
       " 'dur_total_std',\n",
       " 'dur_avg_std',\n",
       " 'dur_std_std',\n",
       " 'pkt_total_std',\n",
       " 'ppf_avg_std',\n",
       " 'ppf_std_std',\n",
       " 'bytes_total_std',\n",
       " 'bpf_avg_std',\n",
       " 'bpf_std_std',\n",
       " 'bps_avg_std',\n",
       " 'bps_std_std',\n",
       " 'bpp_avg_std',\n",
       " 'bpp_std_std',\n",
       " 'port_src_uniq_cnt_std',\n",
       " 'port_src_entropy_std',\n",
       " 'flag_syn_ratio_std',\n",
       " 'flag_ack_ratio_std',\n",
       " 'flag_fin_ratio_std',\n",
       " 'ip_dst_uniq_std',\n",
       " 'hdr_payload_ratio_avg_std',\n",
       " 'ttl_std_std',\n",
       " 'IN_BPS',\n",
       " 'IN_BPP',\n",
       " 'IN_PPS',\n",
       " 'OUT_BPS',\n",
       " 'OUT_BPP',\n",
       " 'OUT_PPS',\n",
       " 'PRETOCEL',\n",
       " 'L4_SRC_PORTE',\n",
       " 'L4_DST_PORTE',\n",
       " 'FLAG_FIN',\n",
       " 'FLAG_SYN',\n",
       " 'FLAG_RST',\n",
       " 'FLAG_PSH',\n",
       " 'FLAG_ACK',\n",
       " 'FLAG_URG',\n",
       " 'FLAG_ECE',\n",
       " 'FLAG_CWR',\n",
       " 'CLIENT_FLAG_FIN',\n",
       " 'CLIENT_FLAG_SYN',\n",
       " 'CLIENT_FLAG_RST',\n",
       " 'CLIENT_FLAG_PSH',\n",
       " 'CLIENT_FLAG_ACK',\n",
       " 'CLIENT_FLAG_URG',\n",
       " 'CLIENT_FLAG_ECE',\n",
       " 'CLIENT_FLAG_CWR',\n",
       " 'SERVER_FLAG_FIN',\n",
       " 'SERVER_FLAG_SYN',\n",
       " 'SERVER_FLAG_RST',\n",
       " 'SERVER_FLAG_PSH',\n",
       " 'SERVER_FLAG_ACK',\n",
       " 'SERVER_FLAG_URG',\n",
       " 'SERVER_FLAG_ECE',\n",
       " 'SERVER_FLAG_CWR',\n",
       " 'PROTOCOL_ICMP',\n",
       " 'PROTOCOL_TCP',\n",
       " 'PROTOCOL_UDP',\n",
       " 'PROTOCOL_GRE',\n",
       " 'PROTOCOL_ESP',\n",
       " 'PROTOCOL_ICMP6',\n",
       " 'L4_SRC_PORT_OTHER',\n",
       " 'L4_SRC_PORT_NOPORT',\n",
       " 'L4_SRC_PORT_WEB_NOENC',\n",
       " 'L4_SRC_PORT_TLS',\n",
       " 'L4_SRC_PORT_DNS',\n",
       " 'L4_SRC_PORT_EMAIL',\n",
       " 'L4_SRC_PORT_VPN',\n",
       " 'L4_SRC_PORT_DATA',\n",
       " 'L4_SRC_PORT_SHELL',\n",
       " 'L4_SRC_PORT_PLAYSTATION',\n",
       " 'L4_SRC_PORT_CHAT',\n",
       " 'L4_SRC_PORT_QUERY',\n",
       " 'L4_SRC_PORT_DYNAMIC',\n",
       " 'L4_DST_PORT_OTHER',\n",
       " 'L4_DST_PORT_NOPORT',\n",
       " 'L4_DST_PORT_WEB_NOENC',\n",
       " 'L4_DST_PORT_TLS',\n",
       " 'L4_DST_PORT_DNS',\n",
       " 'L4_DST_PORT_EMAIL',\n",
       " 'L4_DST_PORT_VPN',\n",
       " 'L4_DST_PORT_DATA',\n",
       " 'L4_DST_PORT_SHELL',\n",
       " 'L4_DST_PORT_PLAYSTATION',\n",
       " 'L4_DST_PORT_CHAT',\n",
       " 'L4_DST_PORT_QUERY',\n",
       " 'L4_DST_PORT_DYNAMIC',\n",
       " 'ICMP_TYPE_OTHER',\n",
       " 'ICMP_TYPE_ECHO_REPLY',\n",
       " 'ICMP_TYPE_DEST_UNREACHABLE',\n",
       " 'ICMP_TYPE_REDIRECT',\n",
       " 'ICMP_TYPE_ECHO_REQUEST',\n",
       " 'ICMP_TYPE_TIME_EXCEEDED']"
      ]
     },
     "execution_count": 4,
     "metadata": {},
     "output_type": "execute_result"
    }
   ],
   "source": [
    "list(orig_serial.columns)"
   ]
  },
  {
   "attachments": {},
   "cell_type": "markdown",
   "metadata": {},
   "source": [
    "### Modify DataFrames to Make Them Comparable"
   ]
  },
  {
   "cell_type": "code",
   "execution_count": 5,
   "metadata": {},
   "outputs": [],
   "source": [
    "# Drop columns affected by randomness\n",
    "modif_serial   = orig_serial.drop(columns=['port_src_entropy', 'port_src_entropy_std'])\n",
    "modif_parallel = orig_parallel.drop(columns=['port_src_entropy', 'port_src_entropy_std'])\n",
    "\n",
    "# Round float columns in the original data in order to be comparable\n",
    "modif_serial[FLOAT_ORIG_COLS] = modif_serial[FLOAT_ORIG_COLS].round(5)\n",
    "modif_parallel[FLOAT_ORIG_COLS] = modif_parallel[FLOAT_ORIG_COLS].round(5)"
   ]
  },
  {
   "cell_type": "code",
   "execution_count": 6,
   "metadata": {},
   "outputs": [],
   "source": [
    "SORTBY = ['FLOW_END_MILLISECONDS', 'FLOW_START_MILLISECONDS', 'IPV4_SRC_ADDR', 'IPV6_SRC_ADDR', 'IPV4_DST_ADDR',\n",
    "    'IPV6_DST_ADDR', 'PRETOCEL', 'L4_SRC_PORTE', 'L4_DST_PORTE', 'Label']"
   ]
  },
  {
   "cell_type": "code",
   "execution_count": 7,
   "metadata": {},
   "outputs": [],
   "source": [
    "## Sort the frames in order to be comparable\n",
    "serial_sorted = modif_serial.sort_values(by=SORTBY, axis=0, kind='mergesort', ignore_index=True)\n",
    "parallel_sorted = modif_parallel.sort_values(by=SORTBY, axis=0, kind='mergesort', ignore_index=True)"
   ]
  },
  {
   "attachments": {},
   "cell_type": "markdown",
   "metadata": {},
   "source": [
    "### Determine Equality Between Serial and Wrapper Parallelism"
   ]
  },
  {
   "cell_type": "code",
   "execution_count": 8,
   "metadata": {},
   "outputs": [
    {
     "data": {
      "text/plain": [
       "False"
      ]
     },
     "execution_count": 8,
     "metadata": {},
     "output_type": "execute_result"
    }
   ],
   "source": [
    "# Determine if all entries within the sorted dataframes are equal -- whether the dataframes are equal\n",
    "#((serial_sorted == parallel_sorted).sum() == len(serial_sorted)).sum() == len(serial_sorted.columns)\n",
    "serial_sorted.equals(parallel_sorted)"
   ]
  },
  {
   "cell_type": "code",
   "execution_count": 9,
   "metadata": {},
   "outputs": [
    {
     "name": "stdout",
     "output_type": "stream",
     "text": [
      "['pps_std']\n"
     ]
    }
   ],
   "source": [
    "# Determine which columns within the dataframes are different\n",
    "differences = ((serial_sorted == parallel_sorted) == False).any()\n",
    "diff_cols = list(differences[differences].index)\n",
    "print(diff_cols)"
   ]
  },
  {
   "cell_type": "code",
   "execution_count": 10,
   "metadata": {},
   "outputs": [
    {
     "name": "stdout",
     "output_type": "stream",
     "text": [
      "['proto_all_or', 'flows_itimes_max_std', 'flag_syn_ratio', 'pkt_total_std', 'bpp_avg', 'ppf_avg', 'flag_syn_ratio_std', 'bytes_total', 'flag_ack_ratio', 'flag_fin_ratio', 'hdr_payload_ratio_avg', 'flows_itimes_avg_std', 'flows_total', 'bpp_std', 'bpf_avg_std', 'ttl_std_std', 'flows_itimes_std', 'bpf_std', 'ppf_avg_std', 'pps_avg', 'flows_itimes_min_std', 'ip_dst_uniq', 'bpf_std_std', 'dur_std', 'port_src_uniq_cnt', 'flows_total_std', 'bps_avg_std', 'bytes_total_std', 'ip_dst_uniq_std', 'hdr_payload_ratio_avg_std', 'dur_std_std', 'flows_itimes_std_std', 'bpp_avg_std', 'bps_avg', 'dur_total', 'flag_ack_ratio_std', 'pkt_total', 'ppf_std', 'bpp_std_std', 'bps_std', 'flows_itimes_avg', 'dur_avg', 'dur_total_std', 'ppf_std_std', 'flows_concurrent_max_std', 'ttl_std', 'dur_avg_std', 'bps_std_std', 'window_active_ratio', 'port_src_uniq_cnt_std', 'flows_itimes_max', 'flows_itimes_min', 'flows_concurrent_max', 'bpf_avg', 'flag_fin_ratio_std']\n"
     ]
    }
   ],
   "source": [
    "# Which cols are not affected\n",
    "print(list(set(WINDOW_NORAND) - set(diff_cols)))"
   ]
  },
  {
   "attachments": {},
   "cell_type": "markdown",
   "metadata": {},
   "source": [
    "OK, so essentially only 1 windowing column is affected, inspect manually.\n",
    "### Manual Inspection"
   ]
  },
  {
   "cell_type": "code",
   "execution_count": 11,
   "metadata": {},
   "outputs": [],
   "source": [
    "serial_winds   = serial_sorted[WINDOW_NORAND]\n",
    "parallel_winds = parallel_sorted[WINDOW_NORAND]"
   ]
  },
  {
   "cell_type": "code",
   "execution_count": 12,
   "metadata": {},
   "outputs": [
    {
     "data": {
      "text/plain": [
       "Int64Index([290502, 290571, 403402, 442955, 453035, 494020, 513285, 531151,\n",
       "            537681],\n",
       "           dtype='int64')"
      ]
     },
     "execution_count": 12,
     "metadata": {},
     "output_type": "execute_result"
    }
   ],
   "source": [
    "# Determine which rows are different\n",
    "diff_rows_idx = (serial_winds == parallel_winds).sum(axis=1) != len(WINDOW_NORAND)\n",
    "diff_rows_lst = diff_rows_idx[diff_rows_idx].index\n",
    "diff_rows_lst[:10]"
   ]
  },
  {
   "cell_type": "code",
   "execution_count": 13,
   "metadata": {},
   "outputs": [
    {
     "data": {
      "text/plain": [
       "9.000009000009e-06"
      ]
     },
     "execution_count": 13,
     "metadata": {},
     "output_type": "execute_result"
    }
   ],
   "source": [
    "# Whats the portion of different columns\n",
    "len(diff_rows_lst) / len(serial_winds)"
   ]
  },
  {
   "cell_type": "code",
   "execution_count": 14,
   "metadata": {},
   "outputs": [
    {
     "data": {
      "text/plain": [
       "pps_std    3.832965e-16\n",
       "Name: 290502, dtype: float64"
      ]
     },
     "execution_count": 14,
     "metadata": {},
     "output_type": "execute_result"
    }
   ],
   "source": [
    "# Determine which exact are different for a given case\n",
    "diff_cols = (serial_winds.iloc[diff_rows_lst[0]] == parallel_winds.iloc[diff_rows_lst[0]]) == False\n",
    "serial_winds.iloc[diff_rows_lst[0]][diff_cols]"
   ]
  },
  {
   "cell_type": "code",
   "execution_count": 15,
   "metadata": {},
   "outputs": [
    {
     "data": {
      "text/plain": [
       "pps_std    3.832965e-16\n",
       "Name: 290502, dtype: float64"
      ]
     },
     "execution_count": 15,
     "metadata": {},
     "output_type": "execute_result"
    }
   ],
   "source": [
    "parallel_winds.iloc[diff_rows_lst[0]][diff_cols]"
   ]
  },
  {
   "cell_type": "code",
   "execution_count": 16,
   "metadata": {},
   "outputs": [
    {
     "data": {
      "text/plain": [
       "329117"
      ]
     },
     "execution_count": 16,
     "metadata": {},
     "output_type": "execute_result"
    }
   ],
   "source": [
    "# Determine how many windower rows are all 0s (serial vs. parallel)\n",
    "zero_rows_ser = ((serial_winds == 0).sum(axis=1) == len(WINDOW_NORAND)).sum()\n",
    "zero_rows_ser"
   ]
  },
  {
   "cell_type": "code",
   "execution_count": 17,
   "metadata": {},
   "outputs": [
    {
     "data": {
      "text/plain": [
       "329117"
      ]
     },
     "execution_count": 17,
     "metadata": {},
     "output_type": "execute_result"
    }
   ],
   "source": [
    "# Determine how many windower rows are all 0s (serial vs. parallel)\n",
    "zero_rows_par = ((parallel_winds == 0).sum(axis=1) == len(WINDOW_NORAND)).sum()\n",
    "zero_rows_par"
   ]
  },
  {
   "attachments": {},
   "cell_type": "markdown",
   "metadata": {},
   "source": [
    "### Let's Round It"
   ]
  },
  {
   "cell_type": "code",
   "execution_count": 18,
   "metadata": {},
   "outputs": [],
   "source": [
    "# Lets round them on 5\n",
    "serial_winds_rounded = serial_winds.round(5)\n",
    "parallel_winds_rounded = parallel_winds.round(5)"
   ]
  },
  {
   "cell_type": "code",
   "execution_count": 19,
   "metadata": {},
   "outputs": [
    {
     "data": {
      "text/plain": [
       "True"
      ]
     },
     "execution_count": 19,
     "metadata": {},
     "output_type": "execute_result"
    }
   ],
   "source": [
    "# Determine if all entries within the sorted dataframes are equal -- whether the dataframes are equal\n",
    "((serial_winds_rounded == parallel_winds_rounded).sum() == len(serial_winds_rounded)).sum() == len(serial_winds_rounded.columns)"
   ]
  },
  {
   "cell_type": "code",
   "execution_count": 20,
   "metadata": {},
   "outputs": [
    {
     "data": {
      "text/plain": [
       "0.0"
      ]
     },
     "execution_count": 20,
     "metadata": {},
     "output_type": "execute_result"
    }
   ],
   "source": [
    "# Recompute the number of different rows and determine relative count\n",
    "diff_rows_idx = (serial_winds_rounded == parallel_winds_rounded).sum(axis=1) != len(WINDOW_NORAND)\n",
    "diff_rows_lst = diff_rows_idx[diff_rows_idx].index\n",
    "len(diff_rows_lst) / len(serial_winds_rounded)"
   ]
  },
  {
   "cell_type": "code",
   "execution_count": 21,
   "metadata": {},
   "outputs": [
    {
     "data": {
      "text/plain": [
       "[]"
      ]
     },
     "execution_count": 21,
     "metadata": {},
     "output_type": "execute_result"
    }
   ],
   "source": [
    "# Determine which columns within the dataframes are different\n",
    "differences = ((serial_winds_rounded == parallel_winds_rounded) == False).any()\n",
    "diff_cols = list(differences[differences].index)\n",
    "diff_cols"
   ]
  },
  {
   "attachments": {},
   "cell_type": "markdown",
   "metadata": {},
   "source": [
    "### Add Parallel For 16 Processes"
   ]
  },
  {
   "cell_type": "code",
   "execution_count": 22,
   "metadata": {},
   "outputs": [],
   "source": [
    "orig_serial     = pd.read_csv('../09_sub_serial_mergesort.csv')\n",
    "orig_parallel1   = pd.read_csv('../09_sub_par1_mergesort.csv')\n",
    "orig_parallel16 = pd.read_csv('../09_sub_par16_mergesort.csv')"
   ]
  },
  {
   "cell_type": "code",
   "execution_count": 23,
   "metadata": {},
   "outputs": [],
   "source": [
    "def preprocess_df(data: pd.DataFrame) -> pd.DataFrame:\n",
    "    # Perform unified data preprocessing as before to make it comparable\n",
    "    data = data.drop(columns=['port_src_entropy', 'port_src_entropy_std'])\n",
    "    data[FLOAT_ORIG_COLS] = data[FLOAT_ORIG_COLS].round(5)\n",
    "    data[WINDOW_NORAND] = data[WINDOW_NORAND].round(5)\n",
    "    data = data.sort_values(by=SORTBY, axis=0, kind='mergesort', ignore_index=True)\n",
    "\n",
    "    return data"
   ]
  },
  {
   "cell_type": "code",
   "execution_count": 24,
   "metadata": {},
   "outputs": [],
   "source": [
    "preproc_serial     = preprocess_df(orig_serial)\n",
    "preproc_parallel1  = preprocess_df(orig_parallel1)\n",
    "preproc_parallel16 = preprocess_df(orig_parallel16)"
   ]
  },
  {
   "attachments": {},
   "cell_type": "markdown",
   "metadata": {},
   "source": [
    "### Compare Them"
   ]
  },
  {
   "cell_type": "code",
   "execution_count": 25,
   "metadata": {},
   "outputs": [
    {
     "data": {
      "text/plain": [
       "True"
      ]
     },
     "execution_count": 25,
     "metadata": {},
     "output_type": "execute_result"
    }
   ],
   "source": [
    "preproc_serial.equals(preproc_parallel1)"
   ]
  },
  {
   "cell_type": "code",
   "execution_count": 26,
   "metadata": {},
   "outputs": [
    {
     "data": {
      "text/plain": [
       "True"
      ]
     },
     "execution_count": 26,
     "metadata": {},
     "output_type": "execute_result"
    }
   ],
   "source": [
    "preproc_serial.equals(preproc_parallel16)"
   ]
  },
  {
   "cell_type": "code",
   "execution_count": 27,
   "metadata": {},
   "outputs": [
    {
     "data": {
      "text/plain": [
       "True"
      ]
     },
     "execution_count": 27,
     "metadata": {},
     "output_type": "execute_result"
    }
   ],
   "source": [
    "preproc_parallel1.equals(preproc_parallel16)"
   ]
  },
  {
   "cell_type": "code",
   "execution_count": 28,
   "metadata": {},
   "outputs": [
    {
     "name": "stdout",
     "output_type": "stream",
     "text": [
      "[]\n"
     ]
    }
   ],
   "source": [
    "# Determine which columns within the dataframes are different\n",
    "differences = ((preproc_parallel1 == preproc_parallel16) == False).any()\n",
    "diff_cols = list(differences[differences].index)\n",
    "print(diff_cols)"
   ]
  },
  {
   "cell_type": "code",
   "execution_count": 29,
   "metadata": {},
   "outputs": [
    {
     "name": "stdout",
     "output_type": "stream",
     "text": [
      "{'flag_syn_ratio', 'IPV6_DST_ADDR', 'hdr_payload_ratio_avg', 'PROTOCOL_ICMP6', 'SRC_TO_DST_IAT_AVG', 'flows_total', 'bpf_avg_std', 'TCP_WIN_MIN_OUT', 'L4_SRC_PORT_DATA', 'L4_DST_PORT_DATA', 'ICMP_TYPE_ECHO_REQUEST', 'MIN_IP_PKT_LEN', 'flows_itimes_min_std', 'FLAG_CWR', 'PROTOCOL_GRE', 'OUT_BPP', 'NUM_PKTS_512_TO_1024_BYTES', 'RETRANSMITTED_IN_PKTS', 'SRC_TO_DST_IAT_MAX', 'ip_dst_uniq_std', 'SERVER_FLAG_URG', 'L4_DST_PORT_PLAYSTATION', 'MIN_TTL', 'CLIENT_FLAG_PSH', 'bpp_avg_std', 'OUT_PPS', 'PROTOCOL_ICMP', 'ICMP_TYPE_OTHER', 'SERVER_FLAG_ECE', 'SERVER_FLAG_FIN', 'TCP_WIN_MSS_IN', 'DURATION_IN', 'LONGEST_FLOW_PKT', 'DST_TO_SRC_IAT_AVG', 'ppf_std_std', 'NUM_PKTS_UP_TO_128_BYTES', 'flows_concurrent_max_std', 'L4_DST_PORT_SHELL', 'SHORTEST_FLOW_PKT', 'TCP_WIN_MAX_IN', 'window_active_ratio', 'port_src_uniq_cnt_std', 'L4_SRC_PORT_TLS', 'IN_BPP', 'SERVER_FLAG_CWR', 'MAX_TTL', 'proto_all_or', 'flows_itimes_max_std', 'FLAG_FIN', 'IPV4_SRC_ADDR', 'pkt_total_std', 'L4_DST_PORT_QUERY', 'flag_ack_ratio', 'bpp_std', 'L4_SRC_PORT_OTHER', 'L4_DST_PORT_CHAT', 'flows_itimes_std', 'pps_avg', 'OOORDER_OUT_PKTS', 'CLIENT_FLAG_CWR', 'SERVER_FLAG_SYN', 'IN_PKTS', 'L4_DST_PORT_DYNAMIC', 'L4_SRC_PORT_DNS', 'NUM_PKTS_1024_TO_1514_BYTES', 'L4_DST_PORT_EMAIL', 'hdr_payload_ratio_avg_std', 'CLIENT_TCP_FLAGS', 'CLIENT_FLAG_FIN', 'dur_std_std', 'flag_ack_ratio_std', 'ppf_std', 'PROTOCOL_UDP', 'dur_avg', 'L4_SRC_PORT_NOPORT', 'FLAG_URG', 'IPV4_DST_ADDR', 'PROTOCOL_TCP', 'TCP_FLAGS', 'ttl_std', 'TCP_WIN_SCALE_OUT', 'DST_TO_SRC_IAT_STDDEV', 'TCP_WIN_SCALE_IN', 'flows_itimes_max', 'flows_itimes_min', 'L4_DST_PORT_WEB_NOENC', 'PRETOCEL', 'FLOW_START_MILLISECONDS', 'CLIENT_FLAG_ACK', 'DST_TO_SRC_IAT_MIN', 'bpp_avg', 'NUM_PKTS_256_TO_512_BYTES', 'ppf_avg', 'IN_BPS', 'bytes_total', 'CLIENT_FLAG_URG', 'ICMP_TYPE_TIME_EXCEEDED', 'RETRANSMITTED_OUT_PKTS', 'L4_SRC_PORT_VPN', 'ppf_avg_std', 'SRC_TO_DST_IAT_MIN', 'bpf_std_std', 'SERVER_FLAG_PSH', 'dur_std', 'OOORDER_IN_PKTS', 'DST_TO_SRC_IAT_MAX', 'TCP_WIN_MIN_IN', 'L4_DST_PORT_VPN', 'ICMP_TYPE_REDIRECT', 'NUM_PKTS_OVER_1514_BYTES', 'SRC_DENY', 'bytes_total_std', 'FLAG_ACK', 'OUT_PKTS', 'flows_itimes_std_std', 'dur_total', 'SERVER_TCP_FLAGS', 'FLAG_SYN', 'bpp_std_std', 'DST_TO_SRC_AVG_THROUGHPUT', 'SERVER_FLAG_ACK', 'bps_std', 'IPV6_SRC_ADDR', 'FLAG_ECE', 'L4_SRC_PORT_WEB_NOENC', 'ICMP_TYPE_DEST_UNREACHABLE', 'dur_total_std', 'L4_SRC_PORT_DYNAMIC', 'dur_avg_std', 'L4_DST_PORT_OTHER', 'L4_SRC_PORT_EMAIL', 'NUM_PKTS_128_TO_256_BYTES', 'PROTOCOL_ESP', 'bpf_avg', 'L4_DST_PORTE', 'ICMP_TYPE_ECHO_REPLY', 'SERVER_FLAG_RST', 'SRC_TO_DST_IAT_STDDEV', 'flag_syn_ratio_std', 'flag_fin_ratio', 'flows_itimes_avg_std', 'L4_SRC_PORT_CHAT', 'MAX_IP_PKT_LEN', 'ttl_std_std', 'OUT_BPS', 'DST_FRAGMENTS', 'TCP_WIN_MSS_OUT', 'bpf_std', 'L4_SRC_PORTE', 'pps_std', 'FLOW_END_MILLISECONDS', 'ip_dst_uniq', 'port_src_uniq_cnt', 'flows_total_std', 'bps_avg_std', 'L4_DST_PORT_DNS', 'OUT_BYTES', 'SRC_FRAGMENTS', 'CLIENT_FLAG_ECE', 'L4_SRC_PORT_PLAYSTATION', 'L4_SRC_PORT_QUERY', 'CLIENT_FLAG_SYN', 'bps_avg', 'pkt_total', 'SRC_TO_DST_AVG_THROUGHPUT', 'flows_itimes_avg', 'FLAG_RST', 'IN_PPS', 'DST_DENY', 'Label', 'L4_DST_PORT_TLS', 'L4_SRC_PORT_SHELL', 'bps_std_std', 'CLIENT_FLAG_RST', 'IN_BYTES', 'DURATION_OUT', 'TCP_WIN_MAX_OUT', 'FLAG_PSH', 'flows_concurrent_max', 'L4_DST_PORT_NOPORT', 'flag_fin_ratio_std'}\n"
     ]
    }
   ],
   "source": [
    "# Print columns that are not affected\n",
    "print(set(preproc_parallel1.columns) - set(diff_cols))"
   ]
  },
  {
   "cell_type": "code",
   "execution_count": 30,
   "metadata": {},
   "outputs": [
    {
     "data": {
      "text/html": [
       "<div>\n",
       "<style scoped>\n",
       "    .dataframe tbody tr th:only-of-type {\n",
       "        vertical-align: middle;\n",
       "    }\n",
       "\n",
       "    .dataframe tbody tr th {\n",
       "        vertical-align: top;\n",
       "    }\n",
       "\n",
       "    .dataframe thead th {\n",
       "        text-align: right;\n",
       "    }\n",
       "</style>\n",
       "<table border=\"1\" class=\"dataframe\">\n",
       "  <thead>\n",
       "    <tr style=\"text-align: right;\">\n",
       "      <th></th>\n",
       "      <th>IN_BYTES</th>\n",
       "      <th>IN_PKTS</th>\n",
       "      <th>TCP_FLAGS</th>\n",
       "      <th>IPV4_SRC_ADDR</th>\n",
       "      <th>IPV6_SRC_ADDR</th>\n",
       "      <th>IPV4_DST_ADDR</th>\n",
       "      <th>IPV6_DST_ADDR</th>\n",
       "      <th>OUT_BYTES</th>\n",
       "      <th>OUT_PKTS</th>\n",
       "      <th>MIN_IP_PKT_LEN</th>\n",
       "      <th>...</th>\n",
       "      <th>L4_DST_PORT_PLAYSTATION</th>\n",
       "      <th>L4_DST_PORT_CHAT</th>\n",
       "      <th>L4_DST_PORT_QUERY</th>\n",
       "      <th>L4_DST_PORT_DYNAMIC</th>\n",
       "      <th>ICMP_TYPE_OTHER</th>\n",
       "      <th>ICMP_TYPE_ECHO_REPLY</th>\n",
       "      <th>ICMP_TYPE_DEST_UNREACHABLE</th>\n",
       "      <th>ICMP_TYPE_REDIRECT</th>\n",
       "      <th>ICMP_TYPE_ECHO_REQUEST</th>\n",
       "      <th>ICMP_TYPE_TIME_EXCEEDED</th>\n",
       "    </tr>\n",
       "  </thead>\n",
       "  <tbody>\n",
       "    <tr>\n",
       "      <th>0</th>\n",
       "      <td>True</td>\n",
       "      <td>True</td>\n",
       "      <td>True</td>\n",
       "      <td>True</td>\n",
       "      <td>True</td>\n",
       "      <td>True</td>\n",
       "      <td>True</td>\n",
       "      <td>True</td>\n",
       "      <td>True</td>\n",
       "      <td>True</td>\n",
       "      <td>...</td>\n",
       "      <td>True</td>\n",
       "      <td>True</td>\n",
       "      <td>True</td>\n",
       "      <td>True</td>\n",
       "      <td>True</td>\n",
       "      <td>True</td>\n",
       "      <td>True</td>\n",
       "      <td>True</td>\n",
       "      <td>True</td>\n",
       "      <td>True</td>\n",
       "    </tr>\n",
       "    <tr>\n",
       "      <th>1</th>\n",
       "      <td>True</td>\n",
       "      <td>True</td>\n",
       "      <td>True</td>\n",
       "      <td>True</td>\n",
       "      <td>True</td>\n",
       "      <td>True</td>\n",
       "      <td>True</td>\n",
       "      <td>True</td>\n",
       "      <td>True</td>\n",
       "      <td>True</td>\n",
       "      <td>...</td>\n",
       "      <td>True</td>\n",
       "      <td>True</td>\n",
       "      <td>True</td>\n",
       "      <td>True</td>\n",
       "      <td>True</td>\n",
       "      <td>True</td>\n",
       "      <td>True</td>\n",
       "      <td>True</td>\n",
       "      <td>True</td>\n",
       "      <td>True</td>\n",
       "    </tr>\n",
       "    <tr>\n",
       "      <th>2</th>\n",
       "      <td>True</td>\n",
       "      <td>True</td>\n",
       "      <td>True</td>\n",
       "      <td>True</td>\n",
       "      <td>True</td>\n",
       "      <td>True</td>\n",
       "      <td>True</td>\n",
       "      <td>True</td>\n",
       "      <td>True</td>\n",
       "      <td>True</td>\n",
       "      <td>...</td>\n",
       "      <td>True</td>\n",
       "      <td>True</td>\n",
       "      <td>True</td>\n",
       "      <td>True</td>\n",
       "      <td>True</td>\n",
       "      <td>True</td>\n",
       "      <td>True</td>\n",
       "      <td>True</td>\n",
       "      <td>True</td>\n",
       "      <td>True</td>\n",
       "    </tr>\n",
       "    <tr>\n",
       "      <th>3</th>\n",
       "      <td>True</td>\n",
       "      <td>True</td>\n",
       "      <td>True</td>\n",
       "      <td>True</td>\n",
       "      <td>True</td>\n",
       "      <td>True</td>\n",
       "      <td>True</td>\n",
       "      <td>True</td>\n",
       "      <td>True</td>\n",
       "      <td>True</td>\n",
       "      <td>...</td>\n",
       "      <td>True</td>\n",
       "      <td>True</td>\n",
       "      <td>True</td>\n",
       "      <td>True</td>\n",
       "      <td>True</td>\n",
       "      <td>True</td>\n",
       "      <td>True</td>\n",
       "      <td>True</td>\n",
       "      <td>True</td>\n",
       "      <td>True</td>\n",
       "    </tr>\n",
       "    <tr>\n",
       "      <th>4</th>\n",
       "      <td>True</td>\n",
       "      <td>True</td>\n",
       "      <td>True</td>\n",
       "      <td>True</td>\n",
       "      <td>True</td>\n",
       "      <td>True</td>\n",
       "      <td>True</td>\n",
       "      <td>True</td>\n",
       "      <td>True</td>\n",
       "      <td>True</td>\n",
       "      <td>...</td>\n",
       "      <td>True</td>\n",
       "      <td>True</td>\n",
       "      <td>True</td>\n",
       "      <td>True</td>\n",
       "      <td>True</td>\n",
       "      <td>True</td>\n",
       "      <td>True</td>\n",
       "      <td>True</td>\n",
       "      <td>True</td>\n",
       "      <td>True</td>\n",
       "    </tr>\n",
       "    <tr>\n",
       "      <th>...</th>\n",
       "      <td>...</td>\n",
       "      <td>...</td>\n",
       "      <td>...</td>\n",
       "      <td>...</td>\n",
       "      <td>...</td>\n",
       "      <td>...</td>\n",
       "      <td>...</td>\n",
       "      <td>...</td>\n",
       "      <td>...</td>\n",
       "      <td>...</td>\n",
       "      <td>...</td>\n",
       "      <td>...</td>\n",
       "      <td>...</td>\n",
       "      <td>...</td>\n",
       "      <td>...</td>\n",
       "      <td>...</td>\n",
       "      <td>...</td>\n",
       "      <td>...</td>\n",
       "      <td>...</td>\n",
       "      <td>...</td>\n",
       "      <td>...</td>\n",
       "    </tr>\n",
       "    <tr>\n",
       "      <th>999994</th>\n",
       "      <td>True</td>\n",
       "      <td>True</td>\n",
       "      <td>True</td>\n",
       "      <td>True</td>\n",
       "      <td>True</td>\n",
       "      <td>True</td>\n",
       "      <td>True</td>\n",
       "      <td>True</td>\n",
       "      <td>True</td>\n",
       "      <td>True</td>\n",
       "      <td>...</td>\n",
       "      <td>True</td>\n",
       "      <td>True</td>\n",
       "      <td>True</td>\n",
       "      <td>True</td>\n",
       "      <td>True</td>\n",
       "      <td>True</td>\n",
       "      <td>True</td>\n",
       "      <td>True</td>\n",
       "      <td>True</td>\n",
       "      <td>True</td>\n",
       "    </tr>\n",
       "    <tr>\n",
       "      <th>999995</th>\n",
       "      <td>True</td>\n",
       "      <td>True</td>\n",
       "      <td>True</td>\n",
       "      <td>True</td>\n",
       "      <td>True</td>\n",
       "      <td>True</td>\n",
       "      <td>True</td>\n",
       "      <td>True</td>\n",
       "      <td>True</td>\n",
       "      <td>True</td>\n",
       "      <td>...</td>\n",
       "      <td>True</td>\n",
       "      <td>True</td>\n",
       "      <td>True</td>\n",
       "      <td>True</td>\n",
       "      <td>True</td>\n",
       "      <td>True</td>\n",
       "      <td>True</td>\n",
       "      <td>True</td>\n",
       "      <td>True</td>\n",
       "      <td>True</td>\n",
       "    </tr>\n",
       "    <tr>\n",
       "      <th>999996</th>\n",
       "      <td>True</td>\n",
       "      <td>True</td>\n",
       "      <td>True</td>\n",
       "      <td>True</td>\n",
       "      <td>True</td>\n",
       "      <td>True</td>\n",
       "      <td>True</td>\n",
       "      <td>True</td>\n",
       "      <td>True</td>\n",
       "      <td>True</td>\n",
       "      <td>...</td>\n",
       "      <td>True</td>\n",
       "      <td>True</td>\n",
       "      <td>True</td>\n",
       "      <td>True</td>\n",
       "      <td>True</td>\n",
       "      <td>True</td>\n",
       "      <td>True</td>\n",
       "      <td>True</td>\n",
       "      <td>True</td>\n",
       "      <td>True</td>\n",
       "    </tr>\n",
       "    <tr>\n",
       "      <th>999997</th>\n",
       "      <td>True</td>\n",
       "      <td>True</td>\n",
       "      <td>True</td>\n",
       "      <td>True</td>\n",
       "      <td>True</td>\n",
       "      <td>True</td>\n",
       "      <td>True</td>\n",
       "      <td>True</td>\n",
       "      <td>True</td>\n",
       "      <td>True</td>\n",
       "      <td>...</td>\n",
       "      <td>True</td>\n",
       "      <td>True</td>\n",
       "      <td>True</td>\n",
       "      <td>True</td>\n",
       "      <td>True</td>\n",
       "      <td>True</td>\n",
       "      <td>True</td>\n",
       "      <td>True</td>\n",
       "      <td>True</td>\n",
       "      <td>True</td>\n",
       "    </tr>\n",
       "    <tr>\n",
       "      <th>999998</th>\n",
       "      <td>True</td>\n",
       "      <td>True</td>\n",
       "      <td>True</td>\n",
       "      <td>True</td>\n",
       "      <td>True</td>\n",
       "      <td>True</td>\n",
       "      <td>True</td>\n",
       "      <td>True</td>\n",
       "      <td>True</td>\n",
       "      <td>True</td>\n",
       "      <td>...</td>\n",
       "      <td>True</td>\n",
       "      <td>True</td>\n",
       "      <td>True</td>\n",
       "      <td>True</td>\n",
       "      <td>True</td>\n",
       "      <td>True</td>\n",
       "      <td>True</td>\n",
       "      <td>True</td>\n",
       "      <td>True</td>\n",
       "      <td>True</td>\n",
       "    </tr>\n",
       "  </tbody>\n",
       "</table>\n",
       "<p>999999 rows × 181 columns</p>\n",
       "</div>"
      ],
      "text/plain": [
       "        IN_BYTES  IN_PKTS  TCP_FLAGS  IPV4_SRC_ADDR  IPV6_SRC_ADDR  \\\n",
       "0           True     True       True           True           True   \n",
       "1           True     True       True           True           True   \n",
       "2           True     True       True           True           True   \n",
       "3           True     True       True           True           True   \n",
       "4           True     True       True           True           True   \n",
       "...          ...      ...        ...            ...            ...   \n",
       "999994      True     True       True           True           True   \n",
       "999995      True     True       True           True           True   \n",
       "999996      True     True       True           True           True   \n",
       "999997      True     True       True           True           True   \n",
       "999998      True     True       True           True           True   \n",
       "\n",
       "        IPV4_DST_ADDR  IPV6_DST_ADDR  OUT_BYTES  OUT_PKTS  MIN_IP_PKT_LEN  \\\n",
       "0                True           True       True      True            True   \n",
       "1                True           True       True      True            True   \n",
       "2                True           True       True      True            True   \n",
       "3                True           True       True      True            True   \n",
       "4                True           True       True      True            True   \n",
       "...               ...            ...        ...       ...             ...   \n",
       "999994           True           True       True      True            True   \n",
       "999995           True           True       True      True            True   \n",
       "999996           True           True       True      True            True   \n",
       "999997           True           True       True      True            True   \n",
       "999998           True           True       True      True            True   \n",
       "\n",
       "        ...  L4_DST_PORT_PLAYSTATION  L4_DST_PORT_CHAT  L4_DST_PORT_QUERY  \\\n",
       "0       ...                     True              True               True   \n",
       "1       ...                     True              True               True   \n",
       "2       ...                     True              True               True   \n",
       "3       ...                     True              True               True   \n",
       "4       ...                     True              True               True   \n",
       "...     ...                      ...               ...                ...   \n",
       "999994  ...                     True              True               True   \n",
       "999995  ...                     True              True               True   \n",
       "999996  ...                     True              True               True   \n",
       "999997  ...                     True              True               True   \n",
       "999998  ...                     True              True               True   \n",
       "\n",
       "        L4_DST_PORT_DYNAMIC  ICMP_TYPE_OTHER  ICMP_TYPE_ECHO_REPLY  \\\n",
       "0                      True             True                  True   \n",
       "1                      True             True                  True   \n",
       "2                      True             True                  True   \n",
       "3                      True             True                  True   \n",
       "4                      True             True                  True   \n",
       "...                     ...              ...                   ...   \n",
       "999994                 True             True                  True   \n",
       "999995                 True             True                  True   \n",
       "999996                 True             True                  True   \n",
       "999997                 True             True                  True   \n",
       "999998                 True             True                  True   \n",
       "\n",
       "        ICMP_TYPE_DEST_UNREACHABLE  ICMP_TYPE_REDIRECT  \\\n",
       "0                             True                True   \n",
       "1                             True                True   \n",
       "2                             True                True   \n",
       "3                             True                True   \n",
       "4                             True                True   \n",
       "...                            ...                 ...   \n",
       "999994                        True                True   \n",
       "999995                        True                True   \n",
       "999996                        True                True   \n",
       "999997                        True                True   \n",
       "999998                        True                True   \n",
       "\n",
       "        ICMP_TYPE_ECHO_REQUEST  ICMP_TYPE_TIME_EXCEEDED  \n",
       "0                         True                     True  \n",
       "1                         True                     True  \n",
       "2                         True                     True  \n",
       "3                         True                     True  \n",
       "4                         True                     True  \n",
       "...                        ...                      ...  \n",
       "999994                    True                     True  \n",
       "999995                    True                     True  \n",
       "999996                    True                     True  \n",
       "999997                    True                     True  \n",
       "999998                    True                     True  \n",
       "\n",
       "[999999 rows x 181 columns]"
      ]
     },
     "execution_count": 30,
     "metadata": {},
     "output_type": "execute_result"
    }
   ],
   "source": [
    "preproc_parallel1 == preproc_parallel16"
   ]
  },
  {
   "cell_type": "code",
   "execution_count": 31,
   "metadata": {},
   "outputs": [
    {
     "data": {
      "text/plain": [
       "Int64Index([], dtype='int64')"
      ]
     },
     "execution_count": 31,
     "metadata": {},
     "output_type": "execute_result"
    }
   ],
   "source": [
    "# Determine which rows are different\n",
    "diff_rows_idx = (preproc_parallel1 == preproc_parallel16).sum(axis=1) != len(preproc_parallel1.columns)\n",
    "diff_rows_lst = diff_rows_idx[diff_rows_idx].index\n",
    "diff_rows_lst[:10]"
   ]
  },
  {
   "cell_type": "code",
   "execution_count": 32,
   "metadata": {},
   "outputs": [
    {
     "data": {
      "text/plain": [
       "0.0"
      ]
     },
     "execution_count": 32,
     "metadata": {},
     "output_type": "execute_result"
    }
   ],
   "source": [
    "len(diff_rows_lst) / len(preproc_parallel16)"
   ]
  },
  {
   "attachments": {},
   "cell_type": "markdown",
   "metadata": {},
   "source": [
    "Voilla, all versions (serial, parallel with 1 worker and parallel with 16 workers) are equivalent!"
   ]
  }
 ],
 "metadata": {
  "kernelspec": {
   "display_name": "pytorch39",
   "language": "python",
   "name": "python3"
  },
  "language_info": {
   "codemirror_mode": {
    "name": "ipython",
    "version": 3
   },
   "file_extension": ".py",
   "mimetype": "text/x-python",
   "name": "python",
   "nbconvert_exporter": "python",
   "pygments_lexer": "ipython3",
   "version": "3.9.15"
  },
  "orig_nbformat": 4,
  "vscode": {
   "interpreter": {
    "hash": "d861584089f19d4cf1f94dff810de7a0b43a1b5ae1220a2a1ebade071baa5fbf"
   }
  }
 },
 "nbformat": 4,
 "nbformat_minor": 2
}
