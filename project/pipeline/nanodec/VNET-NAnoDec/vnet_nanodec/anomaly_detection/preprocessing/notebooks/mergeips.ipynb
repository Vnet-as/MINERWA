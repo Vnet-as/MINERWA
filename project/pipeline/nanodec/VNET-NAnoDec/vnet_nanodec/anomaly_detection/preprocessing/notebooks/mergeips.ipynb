{
 "cells": [
  {
   "attachments": {},
   "cell_type": "markdown",
   "metadata": {},
   "source": [
    "# Merge VNET IPs\n",
    "Simple script to load all IP addresses from clusters, merge them into a single DataFrame and dump into a file."
   ]
  },
  {
   "cell_type": "code",
   "execution_count": 1,
   "metadata": {},
   "outputs": [],
   "source": [
    "import pandas as pd\n",
    "import os"
   ]
  },
  {
   "cell_type": "code",
   "execution_count": 2,
   "metadata": {},
   "outputs": [],
   "source": [
    "PATH = '../../../../docs/ips/'"
   ]
  },
  {
   "cell_type": "code",
   "execution_count": 3,
   "metadata": {},
   "outputs": [],
   "source": [
    "# Obtain the list of files\n",
    "files = os.listdir(PATH)"
   ]
  },
  {
   "cell_type": "code",
   "execution_count": 4,
   "metadata": {},
   "outputs": [
    {
     "data": {
      "text/html": [
       "<div>\n",
       "<style scoped>\n",
       "    .dataframe tbody tr th:only-of-type {\n",
       "        vertical-align: middle;\n",
       "    }\n",
       "\n",
       "    .dataframe tbody tr th {\n",
       "        vertical-align: top;\n",
       "    }\n",
       "\n",
       "    .dataframe thead th {\n",
       "        text-align: right;\n",
       "    }\n",
       "</style>\n",
       "<table border=\"1\" class=\"dataframe\">\n",
       "  <thead>\n",
       "    <tr style=\"text-align: right;\">\n",
       "      <th></th>\n",
       "      <th>ip_address</th>\n",
       "    </tr>\n",
       "  </thead>\n",
       "  <tbody>\n",
       "    <tr>\n",
       "      <th>0</th>\n",
       "      <td>100.64.5.190</td>\n",
       "    </tr>\n",
       "    <tr>\n",
       "      <th>1</th>\n",
       "      <td>2a11:7e04:f5f6:5053:d981:64c3:34a1:784e</td>\n",
       "    </tr>\n",
       "    <tr>\n",
       "      <th>2</th>\n",
       "      <td>2a11:7e04:329:d70a:e68e:e958:7c4:7d4f</td>\n",
       "    </tr>\n",
       "    <tr>\n",
       "      <th>3</th>\n",
       "      <td>2a11:7e04:30d3:82d9:24d8:7ce8:1dd8:ab8</td>\n",
       "    </tr>\n",
       "    <tr>\n",
       "      <th>4</th>\n",
       "      <td>2a11:7e04:989b:197e:a198:d32a:8031:cd1</td>\n",
       "    </tr>\n",
       "    <tr>\n",
       "      <th>...</th>\n",
       "      <td>...</td>\n",
       "    </tr>\n",
       "    <tr>\n",
       "      <th>1363</th>\n",
       "      <td>109.74.145.216</td>\n",
       "    </tr>\n",
       "    <tr>\n",
       "      <th>1364</th>\n",
       "      <td>10.0.20.154</td>\n",
       "    </tr>\n",
       "    <tr>\n",
       "      <th>1365</th>\n",
       "      <td>86.110.225.11</td>\n",
       "    </tr>\n",
       "    <tr>\n",
       "      <th>1366</th>\n",
       "      <td>86.110.244.113</td>\n",
       "    </tr>\n",
       "    <tr>\n",
       "      <th>1367</th>\n",
       "      <td>86.110.240.245</td>\n",
       "    </tr>\n",
       "  </tbody>\n",
       "</table>\n",
       "<p>11914 rows × 1 columns</p>\n",
       "</div>"
      ],
      "text/plain": [
       "                                   ip_address\n",
       "0                                100.64.5.190\n",
       "1     2a11:7e04:f5f6:5053:d981:64c3:34a1:784e\n",
       "2       2a11:7e04:329:d70a:e68e:e958:7c4:7d4f\n",
       "3      2a11:7e04:30d3:82d9:24d8:7ce8:1dd8:ab8\n",
       "4      2a11:7e04:989b:197e:a198:d32a:8031:cd1\n",
       "...                                       ...\n",
       "1363                           109.74.145.216\n",
       "1364                              10.0.20.154\n",
       "1365                            86.110.225.11\n",
       "1366                           86.110.244.113\n",
       "1367                           86.110.240.245\n",
       "\n",
       "[11914 rows x 1 columns]"
      ]
     },
     "execution_count": 4,
     "metadata": {},
     "output_type": "execute_result"
    }
   ],
   "source": [
    "# Read all flows in a directory and merge into a single DataFrame\n",
    "all_ips = pd.DataFrame(None)\n",
    "\n",
    "for ip_file in files:\n",
    "    ip_filepath = os.path.join(PATH + ip_file)\n",
    "    all_ips = pd.concat([all_ips, pd.read_csv(ip_filepath)], axis=0)\n",
    "\n",
    "all_ips"
   ]
  },
  {
   "cell_type": "code",
   "execution_count": 5,
   "metadata": {},
   "outputs": [
    {
     "data": {
      "text/plain": [
       "0                                   100.64.5.190\n",
       "1        2a11:7e04:f5f6:5053:d981:64c3:34a1:784e\n",
       "2          2a11:7e04:329:d70a:e68e:e958:7c4:7d4f\n",
       "3         2a11:7e04:30d3:82d9:24d8:7ce8:1dd8:ab8\n",
       "4         2a11:7e04:989b:197e:a198:d32a:8031:cd1\n",
       "                          ...                   \n",
       "11909                             109.74.145.216\n",
       "11910                                10.0.20.154\n",
       "11911                              86.110.225.11\n",
       "11912                             86.110.244.113\n",
       "11913                             86.110.240.245\n",
       "Name: ip_address, Length: 11914, dtype: object"
      ]
     },
     "execution_count": 5,
     "metadata": {},
     "output_type": "execute_result"
    }
   ],
   "source": [
    "# Select only unique IP addresses\n",
    "uniq_ips = pd.Series(all_ips['ip_address'].unique(), name='ip_address')\n",
    "uniq_ips"
   ]
  },
  {
   "cell_type": "code",
   "execution_count": 21,
   "metadata": {},
   "outputs": [],
   "source": [
    "uniq_ips.to_csv('vnet_unique_ips_all.csv', index=False)"
   ]
  }
 ],
 "metadata": {
  "kernelspec": {
   "display_name": "vnet-fzuaHEfK",
   "language": "python",
   "name": "python3"
  },
  "language_info": {
   "codemirror_mode": {
    "name": "ipython",
    "version": 3
   },
   "file_extension": ".py",
   "mimetype": "text/x-python",
   "name": "python",
   "nbconvert_exporter": "python",
   "pygments_lexer": "ipython3",
   "version": "3.11.1"
  },
  "orig_nbformat": 4,
  "vscode": {
   "interpreter": {
    "hash": "8b49334ef40efdaa9418e8695534bcd5b0b21a6edc242efe3eb3efe7e0d48157"
   }
  }
 },
 "nbformat": 4,
 "nbformat_minor": 2
}
