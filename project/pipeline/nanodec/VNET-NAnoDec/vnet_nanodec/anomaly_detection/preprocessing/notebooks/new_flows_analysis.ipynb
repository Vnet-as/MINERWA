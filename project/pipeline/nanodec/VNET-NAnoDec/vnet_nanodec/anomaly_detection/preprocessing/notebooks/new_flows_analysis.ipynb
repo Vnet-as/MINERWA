{
 "cells": [
  {
   "cell_type": "code",
   "execution_count": 48,
   "metadata": {},
   "outputs": [],
   "source": [
    "import pandas as pd"
   ]
  },
  {
   "cell_type": "code",
   "execution_count": 49,
   "metadata": {},
   "outputs": [],
   "source": [
    "DATAFILE = '../data/48.flows'"
   ]
  },
  {
   "cell_type": "code",
   "execution_count": 50,
   "metadata": {},
   "outputs": [],
   "source": [
    "data = pd.read_csv(DATAFILE, delimiter='|', header='infer')"
   ]
  },
  {
   "cell_type": "code",
   "execution_count": 51,
   "metadata": {},
   "outputs": [
    {
     "data": {
      "text/html": [
       "<div>\n",
       "<style scoped>\n",
       "    .dataframe tbody tr th:only-of-type {\n",
       "        vertical-align: middle;\n",
       "    }\n",
       "\n",
       "    .dataframe tbody tr th {\n",
       "        vertical-align: top;\n",
       "    }\n",
       "\n",
       "    .dataframe thead th {\n",
       "        text-align: right;\n",
       "    }\n",
       "</style>\n",
       "<table border=\"1\" class=\"dataframe\">\n",
       "  <thead>\n",
       "    <tr style=\"text-align: right;\">\n",
       "      <th></th>\n",
       "      <th>FLOW_START_MILLISECONDS</th>\n",
       "      <th>FLOW_END_MILLISECONDS</th>\n",
       "    </tr>\n",
       "  </thead>\n",
       "  <tbody>\n",
       "    <tr>\n",
       "      <th>0</th>\n",
       "      <td>1660934932096</td>\n",
       "      <td>1660934932096</td>\n",
       "    </tr>\n",
       "    <tr>\n",
       "      <th>1</th>\n",
       "      <td>1660934932096</td>\n",
       "      <td>1660934932096</td>\n",
       "    </tr>\n",
       "    <tr>\n",
       "      <th>2</th>\n",
       "      <td>1660934932096</td>\n",
       "      <td>1660934932096</td>\n",
       "    </tr>\n",
       "    <tr>\n",
       "      <th>3</th>\n",
       "      <td>1660934932097</td>\n",
       "      <td>1660934932097</td>\n",
       "    </tr>\n",
       "    <tr>\n",
       "      <th>4</th>\n",
       "      <td>1660934932097</td>\n",
       "      <td>1660934932097</td>\n",
       "    </tr>\n",
       "    <tr>\n",
       "      <th>...</th>\n",
       "      <td>...</td>\n",
       "      <td>...</td>\n",
       "    </tr>\n",
       "    <tr>\n",
       "      <th>186410</th>\n",
       "      <td>1660934937871</td>\n",
       "      <td>1660934938070</td>\n",
       "    </tr>\n",
       "    <tr>\n",
       "      <th>186411</th>\n",
       "      <td>1660934937871</td>\n",
       "      <td>1660934938189</td>\n",
       "    </tr>\n",
       "    <tr>\n",
       "      <th>186412</th>\n",
       "      <td>1660934937871</td>\n",
       "      <td>1660934938955</td>\n",
       "    </tr>\n",
       "    <tr>\n",
       "      <th>186413</th>\n",
       "      <td>1660934937872</td>\n",
       "      <td>1660934939601</td>\n",
       "    </tr>\n",
       "    <tr>\n",
       "      <th>186414</th>\n",
       "      <td>1660934937872</td>\n",
       "      <td>1660934938809</td>\n",
       "    </tr>\n",
       "  </tbody>\n",
       "</table>\n",
       "<p>186415 rows × 2 columns</p>\n",
       "</div>"
      ],
      "text/plain": [
       "        FLOW_START_MILLISECONDS  FLOW_END_MILLISECONDS\n",
       "0                 1660934932096          1660934932096\n",
       "1                 1660934932096          1660934932096\n",
       "2                 1660934932096          1660934932096\n",
       "3                 1660934932097          1660934932097\n",
       "4                 1660934932097          1660934932097\n",
       "...                         ...                    ...\n",
       "186410            1660934937871          1660934938070\n",
       "186411            1660934937871          1660934938189\n",
       "186412            1660934937871          1660934938955\n",
       "186413            1660934937872          1660934939601\n",
       "186414            1660934937872          1660934938809\n",
       "\n",
       "[186415 rows x 2 columns]"
      ]
     },
     "execution_count": 51,
     "metadata": {},
     "output_type": "execute_result"
    }
   ],
   "source": [
    "data[['FLOW_START_MILLISECONDS', 'FLOW_END_MILLISECONDS']]"
   ]
  },
  {
   "cell_type": "code",
   "execution_count": 52,
   "metadata": {},
   "outputs": [
    {
     "data": {
      "text/plain": [
       "False"
      ]
     },
     "execution_count": 52,
     "metadata": {},
     "output_type": "execute_result"
    }
   ],
   "source": [
    "data['FLOW_END_MILLISECONDS'].is_monotonic_increasing"
   ]
  },
  {
   "cell_type": "code",
   "execution_count": 56,
   "metadata": {},
   "outputs": [],
   "source": [
    "data_sorted = data.sort_values(by='FLOW_END_MILLISECONDS', ignore_index=True, kind='stable')"
   ]
  },
  {
   "cell_type": "code",
   "execution_count": 61,
   "metadata": {},
   "outputs": [
    {
     "data": {
      "text/plain": [
       "False"
      ]
     },
     "execution_count": 61,
     "metadata": {},
     "output_type": "execute_result"
    }
   ],
   "source": [
    "(data == data_sorted).all(axis=1).sum() == len(data)"
   ]
  },
  {
   "cell_type": "markdown",
   "metadata": {},
   "source": [
    "OK, seems like data are not sorted by ending timestamp..."
   ]
  }
 ],
 "metadata": {
  "kernelspec": {
   "display_name": "Python 3.9.13 ('replication-1-nWqEVJ')",
   "language": "python",
   "name": "python3"
  },
  "language_info": {
   "codemirror_mode": {
    "name": "ipython",
    "version": 3
   },
   "file_extension": ".py",
   "mimetype": "text/x-python",
   "name": "python",
   "nbconvert_exporter": "python",
   "pygments_lexer": "ipython3",
   "version": "3.9.13"
  },
  "orig_nbformat": 4,
  "vscode": {
   "interpreter": {
    "hash": "7b1545ec24860a68310dacd60e6ab6366a2c502b734f5f86adc9a641f61c8798"
   }
  }
 },
 "nbformat": 4,
 "nbformat_minor": 2
}
